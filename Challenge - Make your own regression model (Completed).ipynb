{
 "cells": [
  {
   "cell_type": "code",
   "execution_count": 1,
   "metadata": {},
   "outputs": [],
   "source": [
    "import numpy as np\n",
    "import pandas as pd\n",
    "import matplotlib.pyplot as plt\n",
    "import seaborn as sns\n",
    "from sklearn import linear_model\n",
    "from matplotlib.mlab import PCA as mlabPCA\n",
    "from sklearn.preprocessing import StandardScaler\n",
    "from sklearn.decomposition import PCA "
   ]
  },
  {
   "cell_type": "code",
   "execution_count": 2,
   "metadata": {},
   "outputs": [],
   "source": [
    "# Define Functions to use throughout notebook\n",
    "def do_regression(X,Y):\n",
    "    regression = linear_model.LinearRegression()\n",
    "    regression.fit(X,Y)\n",
    "    print(\"Coefficients:\\n\",regression.coef_)\n",
    "    print(\"\\nIntercept:\",regression.intercept_)\n",
    "    print(\"\\nR^2 Value:\",regression.score(X,Y))\n",
    "\n",
    "def show_skew(X,Y):\n",
    "    regression = linear_model.LinearRegression()\n",
    "    regression.fit(X,Y)\n",
    "    predicted = regression.predict(X).ravel()\n",
    "    actual = Y\n",
    "    residual = actual - predicted\n",
    "    f = plt.figure(figsize=(20,5))\n",
    "    plt.subplot(131)\n",
    "    sns.distplot(residual,bins=50)\n",
    "    plt.title('Residual Counts')\n",
    "    plt.xlabel('Residual')\n",
    "    plt.ylabel('Count')\n",
    "    plt.subplot(132)\n",
    "    plt.scatter(predicted, residual)\n",
    "    plt.xlabel('Predicted')\n",
    "    plt.ylabel('Residual')\n",
    "    plt.axhline(y=0)\n",
    "    plt.title('Residual vs. Predicted')\n",
    "    plt.show()    "
   ]
  },
  {
   "cell_type": "code",
   "execution_count": 3,
   "metadata": {},
   "outputs": [],
   "source": [
    "# Read in data\n",
    "df = pd.read_csv('C:\\\\Users\\halln\\Desktop\\THINKFUL\\Datasets\\FBI_Table_Drill\\data.csv',skiprows=4)\n",
    "\n",
    "# Drop columns with lots of NA values\n",
    "df = df.drop(['Rape\\n(revised\\ndefinition)1','Arson3'],axis=1)\n",
    "\n",
    "# Then drop other rows with NA values from dataframe\n",
    "df =df.dropna()\n",
    "\n",
    "# Collect only needed data into new dataframe with better names\n",
    "data = pd.DataFrame(df['Population'])\n",
    "data[['Burglary','Car_Theft','Larceny','Property_Crime']]= df[['Burglary','Motor\\nvehicle\\ntheft','Larceny-\\ntheft','Property\\ncrime']]\n"
   ]
  },
  {
   "cell_type": "code",
   "execution_count": 4,
   "metadata": {},
   "outputs": [
    {
     "name": "stdout",
     "output_type": "stream",
     "text": [
      "Coefficients:\n",
      " [1. 1. 1.]\n",
      "\n",
      "Intercept: 1.1368683772161603e-12\n",
      "\n",
      "R^2 Value: 1.0\n"
     ]
    }
   ],
   "source": [
    "# Collect variables for Regression and show model \n",
    "Y = data['Property_Crime']\n",
    "X = data[['Burglary','Car_Theft','Larceny']]\n",
    "do_regression(X,Y)"
   ]
  },
  {
   "cell_type": "code",
   "execution_count": 5,
   "metadata": {},
   "outputs": [
    {
     "data": {
      "image/png": "[encoded data removed]",
      "text/plain": [
       "<Figure size 1440x360 with 2 Axes>"
      ]
     },
     "metadata": {
      "needs_background": "light"
     },
     "output_type": "display_data"
    }
   ],
   "source": [
    "show_skew(X,Y)"
   ]
  },
  {
   "cell_type": "markdown",
   "metadata": {},
   "source": [
    "# DISCUSSION\n",
    "Obviously the variables used to determine property crime values within the dataset since the R^2 value is 1 and all points were predicted correctly.  However, this is the model that explains the most variance in the dataset so I have selected this model as the best model for this exercise."
   ]
  },
  {
   "cell_type": "code",
   "execution_count": null,
   "metadata": {},
   "outputs": [],
   "source": []
  },
  {
   "cell_type": "code",
   "execution_count": null,
   "metadata": {},
   "outputs": [],
   "source": []
  },
  {
   "cell_type": "code",
   "execution_count": null,
   "metadata": {},
   "outputs": [],
   "source": []
  },
  {
   "cell_type": "code",
   "execution_count": null,
   "metadata": {},
   "outputs": [],
   "source": []
  }
 ],
 "metadata": {
  "kernelspec": {
   "display_name": "Python 3",
   "language": "python",
   "name": "python3"
  },
  "language_info": {
   "codemirror_mode": {
    "name": "ipython",
    "version": 3
   },
   "file_extension": ".py",
   "mimetype": "text/x-python",
   "name": "python",
   "nbconvert_exporter": "python",
   "pygments_lexer": "ipython3",
   "version": "3.7.2"
  }
 },
 "nbformat": 4,
 "nbformat_minor": 2
}
