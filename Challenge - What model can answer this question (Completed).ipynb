{
 "cells": [
  {
   "cell_type": "markdown",
   "metadata": {},
   "source": [
    "# 1 - Predict the running times of prospective Olympic sprinters using data from the last 20 Olympics\n",
    "    - I would use a KNN model here because it would compare prospective times directly with an athlete from the past olympics with simmilar physical characteristcs \n",
    "\n",
    "# 2 - You have more features (columns) than rows in your dataset\n",
    "    - A partial least squares regression would be a good model to use in this situation since it woulld help to reduce the numner off features present.  A lasso regression would be a good tool to use in this situation since it would iteratively filter out features that do not matter\n",
    "\n",
    "# 3 - Identify the most important characteristic predicting likelihood of being jailed before age 20\n",
    "    - A lasso regression would do this by iteratively removing the features that do not matter and showing the influence each remaining component has on the model in the final output.\n",
    "\n",
    "# 4 - Implement a filter to “highlight” emails that might be important to the recipient\n",
    "    - This is a binary outcome (eg. highlight / don't highlight) so a logistical regression would make the most sense in this situation or potentially even the naive bayes model\n",
    "\n",
    "# 5 - You have 1000+ features\n",
    "    - A partial least squares regression would be a good model to use in this situation since it woulld help to reduce the numner off features present.  A lasso regression would be a good tool to use in this situation since it would iteratively filter out features that do not matter\n",
    "\n",
    "# 6 - Predict whether someone who adds items to their cart on a website will purchase the items\n",
    "    - The naive bayes model would work well here since it is simply predicting a binary outcome, however a logistic regression would proabably produce better results depending on the data\n",
    "\n",
    "# 7 - Your dataset dimensions are 982400 x 500\n",
    "     - A partial least squares regression would be a good model to use in this situation since it woulld help to reduce the numner off features present.  A lasso regression would be a good tool to use in this situation since it would iteratively filter out features that do not matter\n",
    "\n",
    "# 8 - Identify faces in an image\n",
    "    - I would use a KNN model here simply because it intuitively seems like the best model to use in this situation\n",
    "\n",
    "# 9 - Predict which of three flavors of ice cream will be most popular with boys vs girls\n",
    "    - For this situation 2 seperate models would most likely be best, and I would use a KNN model for each because it would help to see how the data clusters\n"
   ]
  },
  {
   "cell_type": "code",
   "execution_count": null,
   "metadata": {},
   "outputs": [],
   "source": []
  }
 ],
 "metadata": {
  "kernelspec": {
   "display_name": "Python 3",
   "language": "python",
   "name": "python3"
  },
  "language_info": {
   "codemirror_mode": {
    "name": "ipython",
    "version": 3
   },
   "file_extension": ".py",
   "mimetype": "text/x-python",
   "name": "python",
   "nbconvert_exporter": "python",
   "pygments_lexer": "ipython3",
   "version": "3.7.2"
  }
 },
 "nbformat": 4,
 "nbformat_minor": 2
}
